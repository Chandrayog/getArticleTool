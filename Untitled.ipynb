{
 "cells": [
  {
   "cell_type": "code",
   "execution_count": 1,
   "id": "determined-gazette",
   "metadata": {},
   "outputs": [
    {
     "name": "stdout",
     "output_type": "stream",
     "text": [
      "Enter search engine number to lookup your article from list, input multiple numbers with space only:\n",
      " 0 ALL, 1 Google Scholar, 2 MS Academic, 3 CORE, 4 PubMed, 5 ACM Library, 6 PLOS ONE, 7 Academia, 8 Elsevier Scopus, 9 Springer, 10 Science Direct\n"
     ]
    },
    {
     "name": "stdin",
     "output_type": "stream",
     "text": [
      "Enter a Search Engine value:  5\n"
     ]
    },
    {
     "name": "stdout",
     "output_type": "stream",
     "text": [
      "Path at terminal when executing this file\n",
      "/Users/chandra/Documents/getArticleTool\n",
      "\n",
      "Enter the path to save the JSON output file or enter to save on default location:\n",
      " E.g. (/Users/computername/Desktop/) \n"
     ]
    },
    {
     "name": "stdin",
     "output_type": "stream",
     "text": [
      "Path: \n",
      "Do you also want Excel output? Y/N : \n",
      "Do you also want Logging? Y/N : \n",
      "Enter No of records to search(Minimum 10 or press enter): \n",
      "Enter the FROM year (optional): \n",
      "Enter the TO year (optional): \n"
     ]
    },
    {
     "name": "stdout",
     "output_type": "stream",
     "text": [
      "Choose either Title, Keyword, or Abstract Info as options to search:\n"
     ]
    },
    {
     "name": "stdin",
     "output_type": "stream",
     "text": [
      "Enter Keyword to search (if not then press enter to go to next option): python\n"
     ]
    },
    {
     "name": "stderr",
     "output_type": "stream",
     "text": [
      "  0%|          | 0/1 [00:00<?, ?it/s]"
     ]
    },
    {
     "name": "stdout",
     "output_type": "stream",
     "text": [
      "Searching in ACM Library...\n"
     ]
    },
    {
     "name": "stderr",
     "output_type": "stream",
     "text": [
      "100%|██████████| 1/1 [00:05<00:00,  5.03s/it]\n"
     ]
    },
    {
     "name": "stdout",
     "output_type": "stream",
     "text": [
      "Finished with total 16 records returned.\n",
      "JSON file saved!\n",
      "Search Completed!\n"
     ]
    }
   ],
   "source": [
    "\"\"\"\n",
    "   Main Entry point of the program execution.\n",
    "\n",
    " * Copyright (C) Cape Breton University, Prof. Enayat Rajabi - All Rights Reserved\n",
    " * Unauthorized copying of this file, via any medium is strictly prohibited\n",
    " * without written consent from the owners.\n",
    " * Proprietary and confidential\n",
    " * Written by Chandrayog Yadav <chandrayog.2@gmail.com>, January 2021\n",
    "\n",
    "\"\"\"\n",
    "\n",
    "from SearchMethods import getArticleTool\n",
    "\n",
    "def main():\n",
    "    getArticleTool\n",
    "\n",
    "if __name__ == \"__main__\":\n",
    "    main()\n",
    "\n",
    "print(\"Search Completed!\")"
   ]
  },
  {
   "cell_type": "code",
   "execution_count": null,
   "id": "marine-terror",
   "metadata": {},
   "outputs": [],
   "source": []
  }
 ],
 "metadata": {
  "kernelspec": {
   "display_name": "Python 3",
   "language": "python",
   "name": "python3"
  },
  "language_info": {
   "codemirror_mode": {
    "name": "ipython",
    "version": 3
   },
   "file_extension": ".py",
   "mimetype": "text/x-python",
   "name": "python",
   "nbconvert_exporter": "python",
   "pygments_lexer": "ipython3",
   "version": "3.9.1"
  }
 },
 "nbformat": 4,
 "nbformat_minor": 5
}
